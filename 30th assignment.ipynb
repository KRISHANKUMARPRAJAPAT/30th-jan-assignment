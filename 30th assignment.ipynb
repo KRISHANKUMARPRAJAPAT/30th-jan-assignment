{
 "cells": [
  {
   "cell_type": "markdown",
   "id": "e13f1ee3-62be-4779-a7c6-8c5f8ec02ba0",
   "metadata": {
    "tags": []
   },
   "source": [
    "###### Q.1 write a program to accept percentage from the user and display the grade according to the following criteria:\n",
    "    marks                 grade\n",
    "    >90                     A\n",
    "    >80 and <=90            B\n",
    "    >=60 and <=80           c\n",
    "    below 60                d"
   ]
  },
  {
   "cell_type": "code",
   "execution_count": 6,
   "id": "270c871b-92a0-4f59-9d60-0d1367229854",
   "metadata": {},
   "outputs": [
    {
     "name": "stdin",
     "output_type": "stream",
     "text": [
      "enter your marks 98\n"
     ]
    },
    {
     "name": "stdout",
     "output_type": "stream",
     "text": [
      "you get Grade A\n"
     ]
    }
   ],
   "source": [
    "#Ans:1\n",
    "marks = int(input('enter your marks'))\n",
    "if marks > 90 :\n",
    "    print('you get Grade A')\n",
    "elif marks >80 and  marks <= 90 :\n",
    "    print('you get Grade B')\n",
    "elif marks >=60 and marks <= 80 :\n",
    "    print('you get Grade C')\n",
    "else :\n",
    "    print('you get Grade D')"
   ]
  },
  {
   "cell_type": "markdown",
   "id": "28477bb2-0026-42e5-a197-794e53d9147f",
   "metadata": {
    "tags": []
   },
   "source": [
    "##### Q.2 Write a program to accept the cost price of a bike and display the road tax to be according to the following criteria:\n",
    "     tax                     Cost Price(in Rs)\n",
    "    15%                      >100000\n",
    "    10%                      >50000 and <= 100000\n",
    "    5%                       <= 50000\n"
   ]
  },
  {
   "cell_type": "code",
   "execution_count": 11,
   "id": "d2bcf1d5-b4b1-4b84-b9db-f07badb9741f",
   "metadata": {},
   "outputs": [
    {
     "name": "stdin",
     "output_type": "stream",
     "text": [
      "Enter your price 150000\n"
     ]
    },
    {
     "name": "stdout",
     "output_type": "stream",
     "text": [
      "You will have to pay 15% Road Tax\n"
     ]
    }
   ],
   "source": [
    "#Ans:2\n",
    "price = int(input('Enter your price'))\n",
    "if price > 100000 :\n",
    "    print('You will have to pay 15% Road Tax')\n",
    "elif price >50000 and price <= 100000 :\n",
    "    print('You will have to pay 10% Road Tax')\n",
    "elif price <= 50000 :\n",
    "    print('You will have to pay 5% Road Tax')"
   ]
  },
  {
   "cell_type": "markdown",
   "id": "62a7a83b-72c2-4ae1-8e77-6820f6c59802",
   "metadata": {
    "tags": []
   },
   "source": [
    "###### Q3. Accept any city from the user and display monuments of that city.\n",
    "       City                   Monument\n",
    "     delhi                    red fort\n",
    "     agra                     taj mahal\n",
    "     jaipur                   jal mahal"
   ]
  },
  {
   "cell_type": "code",
   "execution_count": 20,
   "id": "4260b246-7551-4bac-a2f0-6c645e730d04",
   "metadata": {},
   "outputs": [
    {
     "name": "stdin",
     "output_type": "stream",
     "text": [
      "Enter a city:  Agra\n"
     ]
    },
    {
     "name": "stdout",
     "output_type": "stream",
     "text": [
      "The monument of Agra is the Taj Mahal\n"
     ]
    }
   ],
   "source": [
    "#Ans:3\n",
    "city = input(\"Enter a city: \").lower()\n",
    "\n",
    "if city == \"Delhi\" :\n",
    "    print(\"The monument of Delhi is the Red Fort\")\n",
    "elif city == \"agra\" :\n",
    "    print(\"The monument of Agra is the Taj Mahal\")\n",
    "elif city == \"jaipur\" :\n",
    "    print(\"The monument of Jaipur is the Jal Mahal\")\n",
    "else :\n",
    "    print(\"Sorry, we do not have information about the monuments of that city\")\n"
   ]
  },
  {
   "cell_type": "markdown",
   "id": "c02020f0-cf0a-4b1e-9505-22a9c480544f",
   "metadata": {
    "tags": []
   },
   "source": [
    "###### Q:4 Check how many times a given number can be divided by 3 defore it is less than or equal to 10?"
   ]
  },
  {
   "cell_type": "code",
   "execution_count": 9,
   "id": "f07ae78b-510d-4c6e-ad07-472c014f4cd3",
   "metadata": {},
   "outputs": [
    {
     "name": "stdin",
     "output_type": "stream",
     "text": [
      "Enter a number:  6\n"
     ]
    },
    {
     "name": "stdout",
     "output_type": "stream",
     "text": [
      "The given number can be divided by 3 0 times before it is less than or equal to 10.\n"
     ]
    }
   ],
   "source": [
    "#Ans:4\n",
    "number = int(input(\"Enter a number: \"))\n",
    "counter = 0\n",
    "\n",
    "while number > 10:\n",
    "    number /= 3\n",
    "    counter += 1\n",
    "\n",
    "print(\"The given number can be divided by 3\",counter,\"times before it is less than or equal to 10.\")\n"
   ]
  },
  {
   "cell_type": "markdown",
   "id": "350e75fb-5683-41b8-ba1c-5df265f8aeb9",
   "metadata": {
    "tags": []
   },
   "source": [
    "##### Q.5 why and when to use while loop in pythin give a detailed description with example.\n"
   ]
  },
  {
   "cell_type": "markdown",
   "id": "aacd7edb-4fbd-48d1-88b0-970b57d49ab1",
   "metadata": {},
   "source": [
    "#Ans:5\n",
    "A while loop in Python is used to execute a block of code repeatedly while a condition is true. The loop will continue to execute as long as the condition remains true.\n",
    "\n",
    "Here's a simple example to illustrate the usage of while loop:"
   ]
  },
  {
   "cell_type": "code",
   "execution_count": 14,
   "id": "0dac8ae6-d322-4cec-a350-c5537aa5034e",
   "metadata": {},
   "outputs": [
    {
     "name": "stdout",
     "output_type": "stream",
     "text": [
      "1\n",
      "2\n",
      "3\n",
      "4\n",
      "5\n"
     ]
    }
   ],
   "source": [
    "#Print the numbers from 1 to 5 using while loop\n",
    "i = 1\n",
    "while i <= 5:\n",
    "    print(i)\n",
    "    i += 1"
   ]
  },
  {
   "cell_type": "markdown",
   "id": "b40af478-4b59-49a1-81e6-7794c1464279",
   "metadata": {},
   "source": [
    "In this example, the loop is used to print the numbers from 1 to 5. The loop starts by setting the variable i to 1. The condition i <= 5 is true, so the loop executes the block of code inside the loop which is to print the value of i. The value of i is then incremented by 1 using i += 1. The loop continues to execute as long as the condition remains true, which means it will execute 5 times and print the numbers 1 to 5.\n",
    "\n",
    "While loops are useful when you want to execute a block of code repeatedly while a condition is true. They are often used when you don't know the exact number of iterations required, or when the number of iterations depends on some external condition. For example, you could use a while loop to read data from a file until the end of file is reached, or to continually prompt a user for input until a valid input is received. However, it's important to ensure that the condition used in the while loop will eventually become false, otherwise the loop will continue to execute indefinitely and the program may become stuck in an infinite loop."
   ]
  },
  {
   "cell_type": "markdown",
   "id": "20fba8e4-b5e8-40db-b701-2d94ecd2b876",
   "metadata": {},
   "source": [
    "##### Q.6 use nested while loop to print 3 different pattern.\n"
   ]
  },
  {
   "cell_type": "markdown",
   "id": "4e692942-d736-4e65-bd4b-2c298fb639d6",
   "metadata": {},
   "source": [
    "Here are three different patterns that can be printed using nested while loops:\n",
    "\n",
    "Pattern 1: Square Pattern"
   ]
  },
  {
   "cell_type": "code",
   "execution_count": 23,
   "id": "325f948b-7326-41a0-9178-523cf35ab00c",
   "metadata": {},
   "outputs": [
    {
     "name": "stdout",
     "output_type": "stream",
     "text": [
      "1 2 3 4 \n",
      "1 2 3 4 \n",
      "1 2 3 4 \n",
      "1 2 3 4 \n"
     ]
    }
   ],
   "source": [
    "# Square Pattern\n",
    "i = 1\n",
    "while i <= 4:\n",
    "    j = 1\n",
    "    while j <= 4:\n",
    "        print(j, end=' ')\n",
    "        j += 1\n",
    "    print()\n",
    "    i += 1\n"
   ]
  },
  {
   "cell_type": "markdown",
   "id": "3c7bf053-fa56-4388-adc4-e8521dcf6c83",
   "metadata": {},
   "source": [
    "Pattern 2: Right Triangle Pattern"
   ]
  },
  {
   "cell_type": "code",
   "execution_count": 24,
   "id": "d5d51144-5915-44dc-8dcd-e1b7c30227d3",
   "metadata": {},
   "outputs": [
    {
     "name": "stdout",
     "output_type": "stream",
     "text": [
      "* \n",
      "* * \n",
      "* * * \n",
      "* * * * \n"
     ]
    }
   ],
   "source": [
    "# Right Triangle Pattern\n",
    "i = 1\n",
    "while i <= 4:\n",
    "    j = 1\n",
    "    while j <= i:\n",
    "        print('*', end=' ')\n",
    "        j += 1\n",
    "    print()\n",
    "    i += 1\n"
   ]
  },
  {
   "cell_type": "markdown",
   "id": "24fb1872-2a5e-425d-abd5-1f60a05190e3",
   "metadata": {},
   "source": [
    "Pattern 3: Diamond Pattern"
   ]
  },
  {
   "cell_type": "code",
   "execution_count": 25,
   "id": "65e7ef1d-9e29-43cf-a3c2-f19879e24d1d",
   "metadata": {},
   "outputs": [
    {
     "name": "stdout",
     "output_type": "stream",
     "text": [
      "    *\n",
      "   ***\n",
      "  *****\n",
      " *******\n",
      "*********\n",
      " *******\n",
      "  *****\n",
      "   ***\n",
      "    *\n"
     ]
    }
   ],
   "source": [
    "# Diamond Pattern\n",
    "i = 1\n",
    "while i <= 5:\n",
    "    j = 1\n",
    "    while j <= 5 - i:\n",
    "        print(' ', end='')\n",
    "        j += 1\n",
    "    j = 1\n",
    "    while j <= 2 * i - 1:\n",
    "        print('*', end='')\n",
    "        j += 1\n",
    "    print()\n",
    "    i += 1\n",
    "i = 4\n",
    "while i >= 1:\n",
    "    j = 1\n",
    "    while j <= 5 - i:\n",
    "        print(' ', end='')\n",
    "        j += 1\n",
    "    j = 1\n",
    "    while j <= 2 * i - 1:\n",
    "        print('*', end='')\n",
    "        j += 1\n",
    "    print()\n",
    "    i -= 1\n"
   ]
  },
  {
   "cell_type": "markdown",
   "id": "36ad9f98-57d4-44de-ad3c-346b56581e40",
   "metadata": {},
   "source": [
    "##### Q.7 reverse a while loop to display numbers from 10 to 1\n"
   ]
  },
  {
   "cell_type": "code",
   "execution_count": 27,
   "id": "e19e4b4c-b3ea-46d0-bd23-79eea0741889",
   "metadata": {},
   "outputs": [
    {
     "name": "stdout",
     "output_type": "stream",
     "text": [
      "10\n",
      "9\n",
      "8\n",
      "7\n",
      "6\n",
      "5\n",
      "4\n",
      "3\n",
      "2\n",
      "1\n"
     ]
    }
   ],
   "source": [
    "a = 10\n",
    "while a >= 1:\n",
    "    print(a)\n",
    "    a -= 1\n"
   ]
  },
  {
   "cell_type": "code",
   "execution_count": null,
   "id": "1a09e0f7-92b7-4f4c-b1ee-29aff37bbb6e",
   "metadata": {},
   "outputs": [],
   "source": []
  }
 ],
 "metadata": {
  "kernelspec": {
   "display_name": "Python 3 (ipykernel)",
   "language": "python",
   "name": "python3"
  },
  "language_info": {
   "codemirror_mode": {
    "name": "ipython",
    "version": 3
   },
   "file_extension": ".py",
   "mimetype": "text/x-python",
   "name": "python",
   "nbconvert_exporter": "python",
   "pygments_lexer": "ipython3",
   "version": "3.10.8"
  }
 },
 "nbformat": 4,
 "nbformat_minor": 5
}
